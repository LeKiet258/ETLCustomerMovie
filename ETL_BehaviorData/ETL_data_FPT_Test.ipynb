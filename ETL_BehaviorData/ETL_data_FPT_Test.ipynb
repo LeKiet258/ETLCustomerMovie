{
 "cells": [
  {
   "cell_type": "code",
   "execution_count": 1,
   "metadata": {},
   "outputs": [],
   "source": [
    "import findspark\n",
    "findspark.init()\n",
    "\n",
    "from pyspark import SparkContext, SparkConf\n",
    "from pyspark.sql import SparkSession\n",
    "from pyspark.sql.types import *\n",
    "from pyspark.sql.functions import *"
   ]
  },
  {
   "cell_type": "code",
   "execution_count": 2,
   "metadata": {},
   "outputs": [],
   "source": [
    "sc = SparkContext() # dòng này phải nằm trước dòng dưới\n",
    "spark = SparkSession.builder.config(\"spark.driver.memory\", \"10g\").getOrCreate()"
   ]
  },
  {
   "cell_type": "code",
   "execution_count": null,
   "metadata": {},
   "outputs": [],
   "source": [
    "spark.stop()"
   ]
  },
  {
   "cell_type": "markdown",
   "metadata": {},
   "source": [
    "# ETL for one day"
   ]
  },
  {
   "cell_type": "code",
   "execution_count": 3,
   "metadata": {},
   "outputs": [
    {
     "name": "stdout",
     "output_type": "stream",
     "text": [
      "+-----+--------+--------------------+---------+---------+----------+-------------+-----------+--------+------------------+------------+--------+------+------------+---------+--------------------+------------+---------+-----+------------+-----------+--------------+---------------+------------------+------------+--------------------+--------------------+--------------------+---------+-------------+--------------------+-------------+-------------------+-----+-------------+--------------------+---------------+----------+---------+-------+--------+----+----+\n",
      "|AppId| AppName|             BoxTime|ChapterID| Contract|CustomerID|DefaultGetway|  Directors|Duration|ElapsedTimePlaying|       Event|Firmware|Folder|          Ip|   ItemId|            ItemName|ListOnFolder|LocalType|LogId|         Mac| PrimaryDNS|PublishCountry|RealTimePlaying|            Screen|SecondaryDNS|             Session|     SessionMainMenu|      SessionSubMenu|SubMenuId|   SubnetMask|                 Url|       ip_wan|          DateStamp|  Key|isLandingPage|           Multicast|          Title|IsPersonal|IDRelated|keyword|Original| Hit|Path|\n",
      "+-----+--------+--------------------+---------+---------+----------+-------------+-----------+--------+------------------+------------+--------+------+------------+---------+--------------------+------------+---------+-----+------------+-----------+--------------+---------------+------------------+------------+--------------------+--------------------+--------------------+---------+-------------+--------------------+-------------+-------------------+-----+-------------+--------------------+---------------+----------+---------+-------+--------+----+----+\n",
      "|  VOD|     VOD|2016:02:12:12:46:...|   221307|SGFD81389|    220688|  192.168.1.1|Lee So Yeon|    3814|              3811|     StopVOD|  2.4.14|    20|192.168.1.25|100052388|Trường Học Moorim...|    19,19,20|        0|   52|B046FCAC0DC1|192.168.1.1|      Hàn Quốc|          570.3|PlayingFromGeneral|     0.0.0.0|B046FCAC0DC1:2016...|B046FCAC0DC1:2016...|B046FCAC0DC1:2016...|       11|255.255.255.0|http://fboxstream...|100.98.91.249|               NULL| NULL|         NULL|                NULL|           NULL|      NULL|     NULL|   NULL|    NULL|NULL|NULL|\n",
      "| IPTV|    IPTV|2016:02:11:01:02:...|     NULL|SGFD81389|    220688|  192.168.1.1|       NULL|    NULL|              NULL|   EnterIPTV|  2.4.14|  NULL|192.168.1.25|     NULL|                NULL|        NULL|       77|   40|B046FCAC0DC1|192.168.1.1|          NULL|           NULL|              NULL|     0.0.0.0|B046FCAC0DC1:2016...|B046FCAC0DC1:2016...|                NULL|     NULL|255.255.255.0|                NULL|100.98.91.249|               NULL| NULL|         NULL|                NULL|           NULL|      NULL|     NULL|   NULL|    NULL|NULL|NULL|\n",
      "|  VOD|     VOD|2016:02:11:03:06:...|   221307|SGFD81389|    220688|  192.168.1.1|Lee So Yeon|       0|              NULL|     NextVOD|  2.4.14|    20|192.168.1.25|100052388|Trường Học Moorim...|    19,19,20|       77|   55|B046FCAC0DC1|192.168.1.1|      Hàn Quốc|           NULL|PlayingFromGeneral|     0.0.0.0|B046FCAC0DC1:2016...|B046FCAC0DC1:2016...|B046FCAC0DC1:2016...|       11|255.255.255.0|                NULL|100.98.91.249|14/01/2016 00:00:00| NULL|         NULL|                NULL|           NULL|      NULL|     NULL|   NULL|    NULL|NULL|NULL|\n",
      "|  VOD|    IPTV|2016:02:12:04:45:...|     NULL|SGFD81389|    220688|  192.168.1.1|       NULL|    NULL|              NULL|ChangeModule|  2.4.14|  NULL|192.168.1.25|     NULL|                NULL|        NULL|       77|   18|B046FCAC0DC1|192.168.1.1|          NULL|           NULL|              NULL|     0.0.0.0|B046FCAC0DC1:2016...|B046FCAC0DC1:2016...|                NULL|     NULL|255.255.255.0|                NULL|100.98.91.249|               NULL|Power|            1|                NULL|           NULL|      NULL|     NULL|   NULL|    NULL|NULL|NULL|\n",
      "|  VOD|     VOD|2016:02:12:12:47:...|   221308|SGFD81389|    220688|  192.168.1.1|Lee So Yeon|    3906|              NULL|     PlayVOD|  2.4.14|    20|192.168.1.25|100052388|Trường Học Moorim...|    19,19,20|        0|   54|B046FCAC0DC1|192.168.1.1|      Hàn Quốc|           NULL|PlayingFromGeneral|     0.0.0.0|B046FCAC0DC1:2016...|B046FCAC0DC1:2016...|B046FCAC0DC1:2016...|       11|255.255.255.0|http://fboxstream...|100.98.91.249|          undefined| NULL|         NULL|                NULL|           NULL|      NULL|     NULL|   NULL|    NULL|NULL|NULL|\n",
      "| IPTV|    IPTV|2016:02:12:04:45:...|     NULL|SGFD81389|    220688|  192.168.1.1|       NULL|    NULL|              NULL|   EnterIPTV|  2.4.14|  NULL|192.168.1.25|     NULL|                NULL|        NULL|       77|   40|B046FCAC0DC1|192.168.1.1|          NULL|           NULL|              NULL|     0.0.0.0|B046FCAC0DC1:2016...|B046FCAC0DC1:2016...|                NULL|     NULL|255.255.255.0|                NULL|100.98.91.249|               NULL| NULL|         NULL|                NULL|           NULL|      NULL|     NULL|   NULL|    NULL|NULL|NULL|\n",
      "|  VOD|     VOD|2016:02:13:03:48:...|   221309|SGFD81389|    220688|  192.168.1.1|Lee So Yeon|       0|              NULL|     NextVOD|  2.4.14|    20|192.168.1.25|100052388|Trường Học Moorim...|    19,19,20|        0|   55|B046FCAC0DC1|192.168.1.1|      Hàn Quốc|           NULL|PlayingFromGeneral|     0.0.0.0|B046FCAC0DC1:2016...|B046FCAC0DC1:2016...|B046FCAC0DC1:2016...|       11|255.255.255.0|                NULL|100.98.91.249|14/01/2016 00:00:00| NULL|         NULL|                NULL|           NULL|      NULL|     NULL|   NULL|    NULL|NULL|NULL|\n",
      "|  VOD|     VOD|2016:02:13:03:48:...|   221308|SGFD81389|    220688|  192.168.1.1|Lee So Yeon|    3906|              3903|     StopVOD|  2.4.14|    20|192.168.1.25|100052388|Trường Học Moorim...|    19,19,20|        0|   52|B046FCAC0DC1|192.168.1.1|      Hàn Quốc|         3384.6|PlayingFromGeneral|     0.0.0.0|B046FCAC0DC1:2016...|B046FCAC0DC1:2016...|B046FCAC0DC1:2016...|       11|255.255.255.0|http://fboxstream...|100.98.91.249|               NULL| NULL|         NULL|                NULL|           NULL|      NULL|     NULL|   NULL|    NULL|NULL|NULL|\n",
      "| IPTV|    IPTV|2016:02:13:17:25:...|     NULL|SGFD81389|    220688|  192.168.1.1|       NULL|    NULL|              NULL|   EnterIPTV|  2.4.14|  NULL|192.168.1.25|     NULL|                NULL|        NULL|        0|   40|B046FCAC0DC1|192.168.1.1|          NULL|           NULL|              NULL|     0.0.0.0|B046FCAC0DC1:2016...|B046FCAC0DC1:2016...|                NULL|     NULL|255.255.255.0|                NULL|100.91.19.253|               NULL| NULL|         NULL|                NULL|           NULL|      NULL|     NULL|   NULL|    NULL|NULL|NULL|\n",
      "|  VOD|     VOD|2016:02:14:01:53:...|   221308|SGFD81389|    220688|  192.168.1.1|Lee So Yeon|    3906|              3903|     StopVOD|  2.4.14|    20|192.168.1.25|100052388|Trường Học Moorim...|    19,19,20|       77|   52|B046FCAC0DC1|192.168.1.1|      Hàn Quốc|          621.9|PlayingFromGeneral|     0.0.0.0|B046FCAC0DC1:2016...|B046FCAC0DC1:2016...|B046FCAC0DC1:2016...|       23|255.255.255.0|http://fboxstream...|100.91.19.253|               NULL| NULL|         NULL|                NULL|           NULL|      NULL|     NULL|   NULL|    NULL|NULL|NULL|\n",
      "| HOME|     VOD|2016:02:14:14:46:...|     NULL|SGFD81389|    220688|  192.168.1.1|       NULL|    NULL|              NULL|ChangeModule|  2.4.14|  NULL|192.168.1.25|     NULL|                NULL|        NULL|        0|   18|B046FCAC0DC1|192.168.1.1|          NULL|           NULL|              NULL|     0.0.0.0|B046FCAC0DC1:2016...|B046FCAC0DC1:2016...|                NULL|     NULL|255.255.255.0|                NULL|100.91.19.253|               NULL|Power|            1|                NULL|           NULL|      NULL|     NULL|   NULL|    NULL|NULL|NULL|\n",
      "|  VOD|VODKPLUS|2016:02:14:04:15:...|     NULL|SGFD81389|    220688|  192.168.1.1|       NULL|    NULL|              NULL|     Standby|  2.4.14|  NULL|192.168.1.25|     NULL|                NULL|        NULL|       77|   12|B046FCAC0DC1|192.168.1.1|          NULL|           NULL|              NULL|     0.0.0.0|B046FCAC0DC1:2016...|B046FCAC0DC1:2016...|                NULL|     NULL|255.255.255.0|                NULL|100.91.19.253|               NULL|Power|         NULL|                NULL|           NULL|      NULL|     NULL|   NULL|    NULL|NULL|NULL|\n",
      "|  VOD|     VOD|2016:02:14:01:41:...|   221308|SGFD81389|    220688|  192.168.1.1|Lee So Yeon|       0|              NULL|    StartVOD|  2.4.14|    20|192.168.1.25|100052388|Trường Học Moorim...|    19,19,20|       77|   51|B046FCAC0DC1|192.168.1.1|      Hàn Quốc|           NULL|PlayingFromGeneral|     0.0.0.0|B046FCAC0DC1:2016...|B046FCAC0DC1:2016...|B046FCAC0DC1:2016...|       23|255.255.255.0|                NULL|100.91.19.253|14/01/2016 00:00:00| NULL|         NULL|                NULL|           NULL|      NULL|     NULL|   NULL|    NULL|NULL|NULL|\n",
      "|  VOD|     VOD|2016:02:14:03:04:...|   227909|SGFD81389|    220688|  192.168.1.1|Ô Nhĩ Thiện|       0|              NULL|    StartVOD|  2.4.14|     2|192.168.1.25|100000148|Kẻ Trộm Mộ: Huyền...|           2|       77|   51|B046FCAC0DC1|192.168.1.1|    Trung Quốc|           NULL|PlayingFromGeneral|     0.0.0.0|B046FCAC0DC1:2016...|B046FCAC0DC1:2016...|B046FCAC0DC1:2016...|        2|255.255.255.0|                NULL|100.91.19.253|04/02/2016 00:00:00| NULL|         NULL|                NULL|           NULL|      NULL|     NULL|   NULL|    NULL|NULL|NULL|\n",
      "| IPTV|    IPTV|2016:02:14:13:48:...|     NULL|SGFD81389|    220688|  192.168.1.1|       NULL|       7|              NULL| StopChannel|  2.4.14|  NULL|192.168.1.25|      158|       FOX SPORTS HD|        NULL|        0|   42|B046FCAC0DC1|192.168.1.1|          NULL|          6.657|              Main|     0.0.0.0|B046FCAC0DC1:2016...|B046FCAC0DC1:2016...|                NULL|     NULL|255.255.255.0|http://118.69.252...|100.91.19.253|               NULL| NULL|            0|udp://225.1.2.229...|           NULL|      NULL|     NULL|   NULL|    NULL|NULL|NULL|\n",
      "| IPTV|    IPTV|2016:02:17:18:29:...|     NULL|SGFD81389|    220688|  192.168.1.1|       NULL|      11|              NULL| StopChannel|  2.4.14|  NULL|192.168.1.25|       52|     TRUYỀN HÌNH FPT|        NULL|        0|   42|B046FCAC0DC1|192.168.1.1|          NULL|         11.327|              Main|     0.0.0.0|B046FCAC0DC1:2016...|B046FCAC0DC1:2016...|                NULL|     NULL|255.255.255.0|                NULL|100.91.19.253|               NULL| NULL|            0|udp://225.1.1.2:3...|           NULL|      NULL|     NULL|   NULL|    NULL|NULL|NULL|\n",
      "|  VOD|    IPTV|2016:02:17:00:23:...|     NULL|SGFD81389|    220688|  192.168.1.1|       NULL|    NULL|              NULL|ChangeModule|  2.4.14|  NULL|192.168.1.25|     NULL|                NULL|        NULL|        0|   18|B046FCAC0DC1|192.168.1.1|          NULL|           NULL|              NULL|     0.0.0.0|B046FCAC0DC1:2016...|B046FCAC0DC1:2016...|                NULL|     NULL|255.255.255.0|                NULL|100.91.19.253|               NULL|Power|            1|                NULL|           NULL|      NULL|     NULL|   NULL|    NULL|NULL|NULL|\n",
      "| IPTV|    IPTV|2016:02:17:03:00:...|     NULL|SGFD81389|    220688|  192.168.1.1|       NULL|    NULL|              NULL|StartChannel|  2.4.14|  NULL|192.168.1.25|      125|       BÓNG ĐÁ TV HD|        NULL|        0|   41|B046FCAC0DC1|192.168.1.1|          NULL|           NULL|             Sport|     0.0.0.0|B046FCAC0DC1:2016...|B046FCAC0DC1:2016...|                NULL|     NULL|255.255.255.0|udp://225.1.2.243...|100.91.19.253|               NULL| NULL|         NULL|udp://225.1.2.243...|Benfica - Zenit|      NULL|     NULL|   NULL|    NULL|NULL|NULL|\n",
      "|  VOD|     VOD|2016:02:17:04:19:...|   221310|SGFD81389|    220688|  192.168.1.1|Lee So Yeon|    3916|              3913|     StopVOD|  2.4.14|    20|192.168.1.25|100052388|Trường Học Moorim...|    19,19,20|        0|   52|B046FCAC0DC1|192.168.1.1|      Hàn Quốc|         1158.6|PlayingFromGeneral|     0.0.0.0|B046FCAC0DC1:2016...|B046FCAC0DC1:2016...|B046FCAC0DC1:2016...|       23|255.255.255.0|http://fboxstream...|100.91.19.253|               NULL| NULL|         NULL|                NULL|           NULL|      NULL|     NULL|   NULL|    NULL|NULL|NULL|\n",
      "| IPTV|    IPTV|2016:02:17:00:22:...|     NULL|SGFD81389|    220688|  192.168.1.1|       NULL|    NULL|              NULL|   EnterIPTV|  2.4.14|  NULL|192.168.1.25|     NULL|                NULL|        NULL|        0|   40|B046FCAC0DC1|192.168.1.1|          NULL|           NULL|              NULL|     0.0.0.0|B046FCAC0DC1:2016...|B046FCAC0DC1:2016...|                NULL|     NULL|255.255.255.0|                NULL|100.91.19.253|               NULL| NULL|         NULL|                NULL|           NULL|      NULL|     NULL|   NULL|    NULL|NULL|NULL|\n",
      "+-----+--------+--------------------+---------+---------+----------+-------------+-----------+--------+------------------+------------+--------+------+------------+---------+--------------------+------------+---------+-----+------------+-----------+--------------+---------------+------------------+------------+--------------------+--------------------+--------------------+---------+-------------+--------------------+-------------+-------------------+-----+-------------+--------------------+---------------+----------+---------+-------+--------+----+----+\n",
      "only showing top 20 rows\n",
      "\n"
     ]
    }
   ],
   "source": [
    "rdd = sc.textFile(\"../FPT_Test/DataSampleTest/logt21.txt\") \\\n",
    "    .map(lambda line: eval(line)) \\\n",
    "    .collect()\n",
    "    \n",
    "df_input = spark.createDataFrame(rdd)\n",
    "df_input.show()"
   ]
  },
  {
   "cell_type": "code",
   "execution_count": 4,
   "metadata": {},
   "outputs": [
    {
     "data": {
      "text/plain": [
       "97248"
      ]
     },
     "execution_count": 4,
     "metadata": {},
     "output_type": "execute_result"
    }
   ],
   "source": [
    "df_input.count()"
   ]
  },
  {
   "cell_type": "code",
   "execution_count": 37,
   "metadata": {},
   "outputs": [
    {
     "name": "stdout",
     "output_type": "stream",
     "text": [
      "+---------+-----+-------+--------+---------------+\n",
      "| Contract|AppId|AppName|Duration|AppNameCategory|\n",
      "+---------+-----+-------+--------+---------------+\n",
      "|AGD021590|  VOD|    VOD|    NULL|  MovieDuration|\n",
      "|AGD021590| IPTV|   IPTV|      21|        Unknown|\n",
      "|AGD021590| HOME|   IPTV|    NULL|        Unknown|\n",
      "|AGD021590| IPTV|   IPTV|    NULL|        Unknown|\n",
      "|AGD021590|RELAX|   IPTV|    NULL|  RelaxDuration|\n",
      "|AGD021590| IPTV|   IPTV|    NULL|        Unknown|\n",
      "|AGD021590|  VOD|    VOD|    3964|  MovieDuration|\n",
      "|AGD021590| IPTV|   IPTV|      14|        Unknown|\n",
      "|AGD021590| IPTV|   IPTV|       2|        Unknown|\n",
      "|AGD021590| IPTV|   IPTV|    NULL|        Unknown|\n",
      "|AGD021590| IPTV|   IPTV|    NULL|        Unknown|\n",
      "|AGD021590| IPTV|   IPTV|    NULL|        Unknown|\n",
      "|AGD021590| IPTV|   IPTV|      16|        Unknown|\n",
      "|AGD021590|RELAX|   IPTV|    NULL|  RelaxDuration|\n",
      "|AGD021590| IPTV|   IPTV|    NULL|        Unknown|\n",
      "|AGD021590| IPTV|   IPTV|    NULL|        Unknown|\n",
      "|AGD021590| IPTV|   IPTV|    NULL|        Unknown|\n",
      "|AGD021590| IPTV|   IPTV|    NULL|        Unknown|\n",
      "|AGD021590| IPTV|   IPTV|    NULL|        Unknown|\n",
      "|AGD021590| IPTV|   IPTV|      13|        Unknown|\n",
      "+---------+-----+-------+--------+---------------+\n",
      "only showing top 20 rows\n",
      "\n"
     ]
    }
   ],
   "source": [
    "df_category = df_input.select(\"Contract\", \"AppId\", \"AppName\", \"Duration\") \\\n",
    "    .where(\"Contract is not null and Contract != ''\") \\\n",
    "    .withColumn(\"AppNameCategory\", \n",
    "        when(col(\"AppId\") == \"CHANNEL\", \"TVDuration\")\n",
    "        .when(col(\"AppId\") == \"VOD\", \"MovieDuration\")\n",
    "        .when(col(\"AppId\") == \"RELAX\", \"RelaxDuration\")\n",
    "        .when(col(\"AppId\") == \"CHILD\", \"ChildDuration\")\n",
    "        .when(col('AppName') == 'KPLUS', \"SportDuration\")\n",
    "        .otherwise(\"Unknown\")\n",
    "    ) \\\n",
    "    .orderBy(col(\"Contract\"))\n",
    "    \n",
    "df_category.show()"
   ]
  },
  {
   "cell_type": "code",
   "execution_count": 38,
   "metadata": {},
   "outputs": [
    {
     "name": "stdout",
     "output_type": "stream",
     "text": [
      "+---------+---------------+--------+\n",
      "| Contract|AppNameCategory|Duration|\n",
      "+---------+---------------+--------+\n",
      "|AGD021590|  RelaxDuration|       0|\n",
      "|AGD021590|  MovieDuration|    3964|\n",
      "|AGD021590|        Unknown|   35722|\n",
      "|AGFDN0001|        Unknown|       0|\n",
      "|BDD029197|  RelaxDuration|       0|\n",
      "|BDD029197|        Unknown|   62973|\n",
      "|BDD029197|  ChildDuration|       0|\n",
      "|BDD029197|  MovieDuration|   67247|\n",
      "|BDD056879|  RelaxDuration|       0|\n",
      "|BDD056879|        Unknown|  192090|\n",
      "|BDD056879|  MovieDuration|  151866|\n",
      "|BDD060056|        Unknown|  256458|\n",
      "|BDD060056|  MovieDuration|       0|\n",
      "|BDD060056|  ChildDuration|       0|\n",
      "|BDD061131|        Unknown|       0|\n",
      "|BDD065085|  RelaxDuration|       0|\n",
      "|BDD065085|  MovieDuration|  157049|\n",
      "|BDD065085|        Unknown|  123860|\n",
      "|BDD065085|  ChildDuration|       0|\n",
      "|BDD065591|        Unknown|       0|\n",
      "+---------+---------------+--------+\n",
      "only showing top 20 rows\n",
      "\n"
     ]
    }
   ],
   "source": [
    "df_category2 = df_category.withColumn(\"Duration\", when(col(\"Duration\").isNull(), 0).otherwise(col(\"Duration\"))) \\\n",
    "    .groupBy(\"Contract\", \"AppNameCategory\").agg(sum(\"Duration\").alias(\"Duration\")) \\\n",
    "    .orderBy(col(\"Contract\"))\n",
    "    \n",
    "df_category2.show()"
   ]
  },
  {
   "cell_type": "code",
   "execution_count": 40,
   "metadata": {},
   "outputs": [
    {
     "name": "stdout",
     "output_type": "stream",
     "text": [
      "+---------+-------------+-------------+-------------+-------+\n",
      "| Contract|ChildDuration|MovieDuration|RelaxDuration|Unknown|\n",
      "+---------+-------------+-------------+-------------+-------+\n",
      "|HPFD05148|         NULL|         NULL|            0| 141340|\n",
      "|DNFD05695|         NULL|         7366|            0|   9657|\n",
      "|BDD061131|         NULL|         NULL|         NULL|      0|\n",
      "|SGH100802|         NULL|            0|         NULL|  57839|\n",
      "|SGDN00211|         NULL|        42084|            0| 612609|\n",
      "|BGD017419|            0|            0|         NULL| 405334|\n",
      "|LSFD03035|            0|         NULL|         NULL| 100959|\n",
      "|HND443796|         NULL|         NULL|         NULL| 190077|\n",
      "|NAD051106|         NULL|            0|         NULL|      0|\n",
      "|HND373545|         NULL|         NULL|         NULL|      0|\n",
      "|CMD013943|            0|       422576|         NULL|  26495|\n",
      "|BTD028492|         NULL|       553245|            0|  56886|\n",
      "|BDD065591|         NULL|         NULL|         NULL|      0|\n",
      "|HNDN00020|         NULL|         NULL|         NULL|      8|\n",
      "|SGD540667|         NULL|            0|         NULL|  12340|\n",
      "|SGD476163|         NULL|            0|         NULL|  10837|\n",
      "|HPFD10489|            0|       238173|            0| 134200|\n",
      "|SGH057418|         NULL|        96153|            0|  24089|\n",
      "|HPD077001|            0|       249852|            0| 300991|\n",
      "|HNFD51816|         NULL|            0|            0|  14801|\n",
      "+---------+-------------+-------------+-------------+-------+\n",
      "only showing top 20 rows\n",
      "\n"
     ]
    }
   ],
   "source": [
    "df_duration_by_contract = df_category2.groupBy(\"Contract\").pivot(\"AppNameCategory\").agg(sum(\"Duration\").alias(\"Duration\"))\n",
    "df_duration_by_contract.show()"
   ]
  },
  {
   "cell_type": "code",
   "execution_count": 3,
   "metadata": {},
   "outputs": [],
   "source": [
    "def etl_one_day(file_path) -> DataFrame:\n",
    "    # prep input\n",
    "    rdd = sc.textFile(file_path) \\\n",
    "        .map(lambda line: eval(line)) \\\n",
    "        .collect()\n",
    "    \n",
    "    df_input = spark.createDataFrame(rdd)\n",
    "    \n",
    "    # categorize app and based on each category, calc sum(duration) \n",
    "    df_category = df_input.select(\"Contract\", \"AppId\", \"AppName\", \"Duration\") \\\n",
    "    .where(\"Contract is not null and Contract != ''\") \\\n",
    "    .withColumn(\"AppNameCategory\", \n",
    "        when(col(\"AppId\") == \"CHANNEL\", \"TVDuration\")\n",
    "        .when(col(\"AppId\") == \"VOD\", \"MovieDuration\")\n",
    "        .when(col(\"AppId\") == \"RELAX\", \"RelaxDuration\")\n",
    "        .when(col(\"AppId\") == \"CHILD\", \"ChildDuration\")\n",
    "        .when(col('AppName') == 'KPLUS', \"SportDuration\")\n",
    "        .otherwise(\"Unknown\")\n",
    "    ) \\\n",
    "    .withColumn(\"Duration\", when(col(\"Duration\").isNull(), 0).otherwise(col(\"Duration\"))) \\\n",
    "    .groupBy(\"Contract\", \"AppNameCategory\")\\\n",
    "    .agg(sum(\"Duration\").alias(\"Duration\")) \\\n",
    "    \n",
    "    # pivot table based on labels in `AppNameCategory`\n",
    "    df_duration_by_contract = df_category.groupBy(\"Contract\").pivot(\"AppNameCategory\").agg(sum(\"Duration\").alias(\"Duration\"))\n",
    "    \n",
    "    return df_duration_by_contract"
   ]
  },
  {
   "cell_type": "code",
   "execution_count": 4,
   "metadata": {},
   "outputs": [
    {
     "name": "stdout",
     "output_type": "stream",
     "text": [
      "+---------+-------------+-------------+-------------+-------+\n",
      "| Contract|ChildDuration|MovieDuration|RelaxDuration|Unknown|\n",
      "+---------+-------------+-------------+-------------+-------+\n",
      "|HPFD05148|         NULL|         NULL|            0| 141340|\n",
      "|DNFD05695|         NULL|         7366|            0|   9657|\n",
      "|BDD061131|         NULL|         NULL|         NULL|      0|\n",
      "|SGH100802|         NULL|            0|         NULL|  57839|\n",
      "|SGDN00211|         NULL|        42084|            0| 612609|\n",
      "|BGD017419|            0|            0|         NULL| 405334|\n",
      "|LSFD03035|            0|         NULL|         NULL| 100959|\n",
      "|HND443796|         NULL|         NULL|         NULL| 190077|\n",
      "|NAD051106|         NULL|            0|         NULL|      0|\n",
      "|HND373545|         NULL|         NULL|         NULL|      0|\n",
      "|CMD013943|            0|       422576|         NULL|  26495|\n",
      "|BTD028492|         NULL|       553245|            0|  56886|\n",
      "|BDD065591|         NULL|         NULL|         NULL|      0|\n",
      "|HNDN00020|         NULL|         NULL|         NULL|      8|\n",
      "|SGD540667|         NULL|            0|         NULL|  12340|\n",
      "|SGD476163|         NULL|            0|         NULL|  10837|\n",
      "|HPFD10489|            0|       238173|            0| 134200|\n",
      "|SGH057418|         NULL|        96153|            0|  24089|\n",
      "|HPD077001|            0|       249852|            0| 300991|\n",
      "|HNFD51816|         NULL|            0|            0|  14801|\n",
      "+---------+-------------+-------------+-------------+-------+\n",
      "only showing top 20 rows\n",
      "\n"
     ]
    }
   ],
   "source": [
    "# Test\n",
    "df = etl_one_day(\"../FPT_Test/DataSampleTest/logt21.txt\")\n",
    "df.show()"
   ]
  },
  {
   "cell_type": "markdown",
   "metadata": {},
   "source": [
    "# ETL for multiple days"
   ]
  },
  {
   "cell_type": "markdown",
   "metadata": {},
   "source": [
    "Hướng 2 : Đọc và xử lý từng file , sau đó gộp tất cả kết quả lại và group by sum \n"
   ]
  },
  {
   "cell_type": "code",
   "execution_count": 6,
   "metadata": {},
   "outputs": [
    {
     "name": "stdout",
     "output_type": "stream",
     "text": [
      "['logt21.txt', 'logt22.txt', 'logt23.txt', 'logt24.txt', 'logt25.txt', 'logt31.txt', 'logt32.txt']\n"
     ]
    }
   ],
   "source": [
    "import os\n",
    "\n",
    "folder_path = \"../FPT_Test/DataSampleTest/\"\n",
    "log_files = [f for f in os.listdir(folder_path) if f.startswith(\"log\")]\n",
    "print(log_files)"
   ]
  },
  {
   "cell_type": "code",
   "execution_count": null,
   "metadata": {},
   "outputs": [],
   "source": [
    "\n",
    "# map each element IN PARALLEL\n",
    "list_log_df = list(map(etl_one_day, [folder_path + log_file for log_file in log_files])) "
   ]
  },
  {
   "cell_type": "code",
   "execution_count": 7,
   "metadata": {},
   "outputs": [],
   "source": [
    "###\n",
    "list_log_df = list(map(etl_one_day, [folder_path + log_file for log_file in log_files])) "
   ]
  },
  {
   "cell_type": "code",
   "execution_count": 8,
   "metadata": {},
   "outputs": [
    {
     "data": {
      "text/plain": [
       "7"
      ]
     },
     "execution_count": 8,
     "metadata": {},
     "output_type": "execute_result"
    }
   ],
   "source": [
    "len(list_log_df)"
   ]
  },
  {
   "cell_type": "code",
   "execution_count": null,
   "metadata": {},
   "outputs": [],
   "source": [
    "def mergeDfsWithDifferentColumns(df1, df2):\n",
    "    df_merged = df1.unionByName(df2, allowMissingColumns=True)\n",
    "    return df_merged"
   ]
  },
  {
   "cell_type": "code",
   "execution_count": 10,
   "metadata": {},
   "outputs": [],
   "source": [
    "def process_data_2_days(df1, df2):\n",
    "    print(\"---------------Merge and process df of 2 days---------------\")\n",
    "    \n",
    "    df_merge = df1.unionByName(df2, allowMissingColumns=True)\n",
    "    \n",
    "    list_field_names = df_merge.schema.fieldNames() # contain Category column\n",
    "    list_field_names.remove(\"Contract\")\n",
    "    \n",
    "    sum_category_duration = list(map(\n",
    "        lambda field_name: sum(field_name).alias(field_name),\n",
    "        list_field_names\n",
    "    ))\n",
    "    \n",
    "    df_processed = df_merge.groupBy(\"Contract\") \\\n",
    "        .agg(*sum_category_duration)\n",
    "        \n",
    "    return df_processed"
   ]
  },
  {
   "cell_type": "code",
   "execution_count": 11,
   "metadata": {},
   "outputs": [
    {
     "name": "stdout",
     "output_type": "stream",
     "text": [
      "---------------Merge and process df of 2 days---------------\n"
     ]
    }
   ],
   "source": [
    "from functools import reduce\n",
    "\n",
    "df_final = reduce(process_data_2_days, list_log_df[:2])"
   ]
  },
  {
   "cell_type": "code",
   "execution_count": 12,
   "metadata": {},
   "outputs": [
    {
     "data": {
      "text/plain": [
       "202"
      ]
     },
     "execution_count": 12,
     "metadata": {},
     "output_type": "execute_result"
    }
   ],
   "source": [
    "df_final.count()"
   ]
  },
  {
   "cell_type": "code",
   "execution_count": 23,
   "metadata": {},
   "outputs": [
    {
     "name": "stdout",
     "output_type": "stream",
     "text": [
      "1825\n",
      "+---------+-------------+-------------+-------------+-------+\n",
      "| Contract|ChildDuration|MovieDuration|RelaxDuration|Unknown|\n",
      "+---------+-------------+-------------+-------------+-------+\n",
      "|HPFD05148|         NULL|         NULL|            0| 141340|\n",
      "|DNFD05695|         NULL|         7366|            0|   9657|\n",
      "|BDD061131|         NULL|         NULL|         NULL|      0|\n",
      "|SGH100802|         NULL|            0|         NULL|  57839|\n",
      "|SGDN00211|            0|       106545|            0|1146261|\n",
      "|BGD017419|            0|            0|         NULL| 405334|\n",
      "|LSFD03035|            0|         NULL|         NULL| 100959|\n",
      "|HND443796|         NULL|         NULL|         NULL| 190077|\n",
      "|NAD051106|         NULL|            0|         NULL|      0|\n",
      "|HND373545|         NULL|         NULL|         NULL|      0|\n",
      "|CMD013943|            0|       422576|         NULL|  26495|\n",
      "|BTD028492|         NULL|       553245|            0|  56886|\n",
      "|BDD065591|         NULL|         NULL|         NULL|      0|\n",
      "|HNDN00020|         NULL|         NULL|         NULL|      8|\n",
      "|SGD540667|         NULL|            0|         NULL|  12340|\n",
      "|SGD476163|         NULL|            0|         NULL|  10837|\n",
      "|HPFD10489|            0|       238173|            0| 134200|\n",
      "|SGH057418|         NULL|        96153|            0|  24089|\n",
      "|HPD077001|            0|       249852|            0| 300991|\n",
      "|HNFD51816|         NULL|            0|            0|  14801|\n",
      "+---------+-------------+-------------+-------------+-------+\n",
      "only showing top 20 rows\n",
      "\n"
     ]
    }
   ],
   "source": [
    "list_field_names = df_final.schema.fieldNames()\n",
    "list_field_names.remove(\"Contract\")\n",
    "\n",
    "list_sum_duration = list(map(\n",
    "    lambda field_name: sum(field_name).alias(field_name), \n",
    "    list_field_names\n",
    "))\n",
    "\n",
    "df_duration_by_contract_final = df_final.groupBy(\"Contract\").agg(*list_sum_duration)\n",
    "\n",
    "print(df_duration_by_contract_final.count())\n",
    "df_duration_by_contract_final.show()"
   ]
  }
 ],
 "metadata": {
  "kernelspec": {
   "display_name": "base",
   "language": "python",
   "name": "python3"
  },
  "language_info": {
   "codemirror_mode": {
    "name": "ipython",
    "version": 3
   },
   "file_extension": ".py",
   "mimetype": "text/x-python",
   "name": "python",
   "nbconvert_exporter": "python",
   "pygments_lexer": "ipython3",
   "version": "3.10.9"
  }
 },
 "nbformat": 4,
 "nbformat_minor": 2
}
