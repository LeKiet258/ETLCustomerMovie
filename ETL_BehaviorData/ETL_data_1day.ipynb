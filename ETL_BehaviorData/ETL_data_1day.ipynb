{
 "cells": [
  {
   "cell_type": "code",
   "execution_count": 52,
   "metadata": {},
   "outputs": [],
   "source": [
    "import findspark\n",
    "findspark.init()\n",
    "\n",
    "from pyspark import SparkContext, SparkConf\n",
    "from pyspark.sql import SparkSession\n",
    "from pyspark.sql.types import *\n",
    "from pyspark.sql.functions import *"
   ]
  },
  {
   "cell_type": "code",
   "execution_count": 53,
   "metadata": {},
   "outputs": [],
   "source": [
    "sc = SparkContext() # dòng này phải nằm trước dòng dưới\n",
    "spark = SparkSession.builder.appName(\"Python Spark SQL basic example\") \\\n",
    "    .config(\"spark.driver.memory\", \"10g\") \\\n",
    "    .getOrCreate()"
   ]
  },
  {
   "cell_type": "code",
   "execution_count": 51,
   "metadata": {},
   "outputs": [],
   "source": [
    "spark.stop()"
   ]
  },
  {
   "cell_type": "code",
   "execution_count": 3,
   "metadata": {},
   "outputs": [],
   "source": [
    "# Setting the db properties\n",
    "database_properties = {\n",
    "    \"user\": \"postgres\",\n",
    "    \"password\": \"1\",\n",
    "    \"driver\": \"org.postgresql.Driver\"\n",
    "}\n",
    "\n",
    "db_name = \"movie\"\n",
    "url_connect = f\"jdbc:postgresql://localhost:5432/movie\""
   ]
  },
  {
   "cell_type": "markdown",
   "metadata": {},
   "source": [
    "# Test Postgresql connection"
   ]
  },
  {
   "cell_type": "code",
   "execution_count": null,
   "metadata": {},
   "outputs": [],
   "source": [
    "df = spark.read.format(\"jdbc\") \\\n",
    "    .option(\"url\", url_connect) \\\n",
    "    .option(\"dbtable\", f'contract_duration') \\\n",
    "    .options(**database_properties).load()"
   ]
  },
  {
   "cell_type": "code",
   "execution_count": 5,
   "metadata": {},
   "outputs": [
    {
     "name": "stdout",
     "output_type": "stream",
     "text": [
      "+--------+----------+-------------+-------------+-------------+-------------+\n",
      "|Contract|TVDuration|MovieDuration|ChildDuration|SportDuration|RelaxDuration|\n",
      "+--------+----------+-------------+-------------+-------------+-------------+\n",
      "+--------+----------+-------------+-------------+-------------+-------------+\n",
      "\n"
     ]
    }
   ],
   "source": [
    "df.show()"
   ]
  },
  {
   "cell_type": "markdown",
   "metadata": {},
   "source": [
    "# Compute metrics"
   ]
  },
  {
   "cell_type": "code",
   "execution_count": 54,
   "metadata": {},
   "outputs": [
    {
     "name": "stdout",
     "output_type": "stream",
     "text": [
      "+----------+---------+----------+------------+-------------+\n",
      "|      Date| Contract|  Category|         Mac|TotalDuration|\n",
      "+----------+---------+----------+------------+-------------+\n",
      "|2022-04-01|HNH579912|TVDuration|0C96E62FC55C|          254|\n",
      "|2022-04-01|HUFD40665|TVDuration|CCEDDC333614|         1457|\n",
      "|2022-04-01|HNH572635|TVDuration|B068E6A1C5F6|         2318|\n",
      "|2022-04-01|HND141717|TVDuration|08674EE8D2C2|         1452|\n",
      "|2022-04-01|HNH743103|TVDuration|402343C25D7D|          251|\n",
      "|2022-04-01|HNH893773|TVDuration|B84DEE76D3B8|          924|\n",
      "|2022-04-01|HND083642|TVDuration|B84DEE849A0F|         1444|\n",
      "|2022-04-01|DNFD74404|TVDuration|90324BB44C39|          691|\n",
      "|2022-04-01|DTFD21200|TVDuration|B84DEED27709|         1436|\n",
      "|2022-04-01|LDFD05747|TVDuration|0C96E6C95E53|         1434|\n",
      "|2022-04-01|HNH063566|TVDuration|B84DEEDD1C85|          687|\n",
      "|2022-04-01|HNH866786|TVDuration|10394E2790A5|          248|\n",
      "|2022-04-01|NBAAA1128|TVDuration|10394E47C1AF|          247|\n",
      "|2022-04-01|HNH960439|TVDuration|B84DEED34371|          683|\n",
      "|2022-04-01|HNJ035736|TVDuration|CCD4A1FA86A5|          246|\n",
      "|2022-04-01|NTFD93673|TVDuration|B84DEEEF4763|         2288|\n",
      "|2022-04-01|HNJ063267|TVDuration|10394E172CA7|         2282|\n",
      "|2022-04-01|HNH790383|TVDuration|4CEBBD53378B|          906|\n",
      "|2022-04-01|THFD12466|TVDuration|5CEA1D893E1C|          242|\n",
      "|2022-04-01|HNH566080|TVDuration|802BF9E0DDC0|          242|\n",
      "+----------+---------+----------+------------+-------------+\n",
      "only showing top 20 rows\n",
      "\n"
     ]
    }
   ],
   "source": [
    "df_appname_category = spark.read.csv('temp/appname_category.csv', header=True)\n",
    "df_appname_category.show()"
   ]
  },
  {
   "cell_type": "code",
   "execution_count": 103,
   "metadata": {},
   "outputs": [
    {
     "data": {
      "text/html": [
       "\n",
       "            <div>\n",
       "                <p><b>SparkSession - in-memory</b></p>\n",
       "                \n",
       "        <div>\n",
       "            <p><b>SparkContext</b></p>\n",
       "\n",
       "            <p><a href=\"http://LAPTOP-SPVETV3T:4040\">Spark UI</a></p>\n",
       "\n",
       "            <dl>\n",
       "              <dt>Version</dt>\n",
       "                <dd><code>v3.5.1</code></dd>\n",
       "              <dt>Master</dt>\n",
       "                <dd><code>local[*]</code></dd>\n",
       "              <dt>AppName</dt>\n",
       "                <dd><code>pyspark-shell</code></dd>\n",
       "            </dl>\n",
       "        </div>\n",
       "        \n",
       "            </div>\n",
       "        "
      ],
      "text/plain": [
       "<pyspark.sql.session.SparkSession at 0x22f88946560>"
      ]
     },
     "execution_count": 103,
     "metadata": {},
     "output_type": "execute_result"
    }
   ],
   "source": [
    "spark"
   ]
  },
  {
   "cell_type": "code",
   "execution_count": 105,
   "metadata": {},
   "outputs": [
    {
     "ename": "AnalysisException",
     "evalue": "It is not allowed to use window functions inside HAVING clause.",
     "output_type": "error",
     "traceback": [
      "\u001b[1;31m---------------------------------------------------------------------------\u001b[0m",
      "\u001b[1;31mAnalysisException\u001b[0m                         Traceback (most recent call last)",
      "Cell \u001b[1;32mIn[105], line 6\u001b[0m\n\u001b[0;32m      3\u001b[0m view_name \u001b[38;5;241m=\u001b[39m \u001b[38;5;124mf\u001b[39m\u001b[38;5;124m'\u001b[39m\u001b[38;5;124msource_\u001b[39m\u001b[38;5;132;01m{\u001b[39;00mdate\u001b[38;5;132;01m}\u001b[39;00m\u001b[38;5;124m'\u001b[39m\n\u001b[0;32m      4\u001b[0m df\u001b[38;5;241m.\u001b[39mcreateOrReplaceTempView(view_name) \u001b[38;5;66;03m# cols: [\"Date\", \"Contract\", \"Category\", \"Mac\", \"TotalDuration\"]\u001b[39;00m\n\u001b[1;32m----> 6\u001b[0m df_metrics \u001b[38;5;241m=\u001b[39m \u001b[43mspark\u001b[49m\u001b[38;5;241;43m.\u001b[39;49m\u001b[43msql\u001b[49m\u001b[43m(\u001b[49m\u001b[38;5;124;43mf\u001b[39;49m\u001b[38;5;124;43m\"\"\"\u001b[39;49m\n\u001b[0;32m      7\u001b[0m \u001b[38;5;124;43m    select Contract, \u001b[39;49m\n\u001b[0;32m      8\u001b[0m \u001b[38;5;124;43m        collect_set(regexp_replace(Category, \u001b[39;49m\u001b[38;5;124;43m'\u001b[39;49m\u001b[38;5;124;43mDuration\u001b[39;49m\u001b[38;5;124;43m'\u001b[39;49m\u001b[38;5;124;43m, \u001b[39;49m\u001b[38;5;124;43m'\u001b[39;49m\u001b[38;5;124;43m'\u001b[39;49m\u001b[38;5;124;43m)) as CustomerTaste,\u001b[39;49m\n\u001b[0;32m      9\u001b[0m \u001b[38;5;124;43m        count(distinct(Date)) as Activeness\u001b[39;49m\n\u001b[0;32m     10\u001b[0m \u001b[38;5;124;43m    from source_\u001b[39;49m\u001b[38;5;132;43;01m{\u001b[39;49;00m\u001b[43mdate\u001b[49m\u001b[38;5;132;43;01m}\u001b[39;49;00m\n\u001b[0;32m     11\u001b[0m \u001b[38;5;124;43m    group by Contract\u001b[39;49m\n\u001b[0;32m     12\u001b[0m \u001b[38;5;124;43m    having rank() over (partition by Contract order by TotalDuration desc) = 1\u001b[39;49m\n\u001b[0;32m     13\u001b[0m \u001b[38;5;124;43m\"\"\"\u001b[39;49m\u001b[43m)\u001b[49m\n\u001b[0;32m     15\u001b[0m spark\u001b[38;5;241m.\u001b[39mcatalog\u001b[38;5;241m.\u001b[39mdropTempView(view_name)\n",
      "File \u001b[1;32mE:\\spark-3.5.1-bin-hadoop3\\python\\pyspark\\sql\\session.py:1631\u001b[0m, in \u001b[0;36mSparkSession.sql\u001b[1;34m(self, sqlQuery, args, **kwargs)\u001b[0m\n\u001b[0;32m   1627\u001b[0m         \u001b[38;5;28;01massert\u001b[39;00m \u001b[38;5;28mself\u001b[39m\u001b[38;5;241m.\u001b[39m_jvm \u001b[38;5;129;01mis\u001b[39;00m \u001b[38;5;129;01mnot\u001b[39;00m \u001b[38;5;28;01mNone\u001b[39;00m\n\u001b[0;32m   1628\u001b[0m         litArgs \u001b[38;5;241m=\u001b[39m \u001b[38;5;28mself\u001b[39m\u001b[38;5;241m.\u001b[39m_jvm\u001b[38;5;241m.\u001b[39mPythonUtils\u001b[38;5;241m.\u001b[39mtoArray(\n\u001b[0;32m   1629\u001b[0m             [_to_java_column(lit(v)) \u001b[38;5;28;01mfor\u001b[39;00m v \u001b[38;5;129;01min\u001b[39;00m (args \u001b[38;5;129;01mor\u001b[39;00m [])]\n\u001b[0;32m   1630\u001b[0m         )\n\u001b[1;32m-> 1631\u001b[0m     \u001b[38;5;28;01mreturn\u001b[39;00m DataFrame(\u001b[38;5;28;43mself\u001b[39;49m\u001b[38;5;241;43m.\u001b[39;49m\u001b[43m_jsparkSession\u001b[49m\u001b[38;5;241;43m.\u001b[39;49m\u001b[43msql\u001b[49m\u001b[43m(\u001b[49m\u001b[43msqlQuery\u001b[49m\u001b[43m,\u001b[49m\u001b[43m \u001b[49m\u001b[43mlitArgs\u001b[49m\u001b[43m)\u001b[49m, \u001b[38;5;28mself\u001b[39m)\n\u001b[0;32m   1632\u001b[0m \u001b[38;5;28;01mfinally\u001b[39;00m:\n\u001b[0;32m   1633\u001b[0m     \u001b[38;5;28;01mif\u001b[39;00m \u001b[38;5;28mlen\u001b[39m(kwargs) \u001b[38;5;241m>\u001b[39m \u001b[38;5;241m0\u001b[39m:\n",
      "File \u001b[1;32mE:\\spark-3.5.1-bin-hadoop3\\python\\lib\\py4j-0.10.9.7-src.zip\\py4j\\java_gateway.py:1322\u001b[0m, in \u001b[0;36mJavaMember.__call__\u001b[1;34m(self, *args)\u001b[0m\n\u001b[0;32m   1316\u001b[0m command \u001b[38;5;241m=\u001b[39m proto\u001b[38;5;241m.\u001b[39mCALL_COMMAND_NAME \u001b[38;5;241m+\u001b[39m\\\n\u001b[0;32m   1317\u001b[0m     \u001b[38;5;28mself\u001b[39m\u001b[38;5;241m.\u001b[39mcommand_header \u001b[38;5;241m+\u001b[39m\\\n\u001b[0;32m   1318\u001b[0m     args_command \u001b[38;5;241m+\u001b[39m\\\n\u001b[0;32m   1319\u001b[0m     proto\u001b[38;5;241m.\u001b[39mEND_COMMAND_PART\n\u001b[0;32m   1321\u001b[0m answer \u001b[38;5;241m=\u001b[39m \u001b[38;5;28mself\u001b[39m\u001b[38;5;241m.\u001b[39mgateway_client\u001b[38;5;241m.\u001b[39msend_command(command)\n\u001b[1;32m-> 1322\u001b[0m return_value \u001b[38;5;241m=\u001b[39m \u001b[43mget_return_value\u001b[49m\u001b[43m(\u001b[49m\n\u001b[0;32m   1323\u001b[0m \u001b[43m    \u001b[49m\u001b[43manswer\u001b[49m\u001b[43m,\u001b[49m\u001b[43m \u001b[49m\u001b[38;5;28;43mself\u001b[39;49m\u001b[38;5;241;43m.\u001b[39;49m\u001b[43mgateway_client\u001b[49m\u001b[43m,\u001b[49m\u001b[43m \u001b[49m\u001b[38;5;28;43mself\u001b[39;49m\u001b[38;5;241;43m.\u001b[39;49m\u001b[43mtarget_id\u001b[49m\u001b[43m,\u001b[49m\u001b[43m \u001b[49m\u001b[38;5;28;43mself\u001b[39;49m\u001b[38;5;241;43m.\u001b[39;49m\u001b[43mname\u001b[49m\u001b[43m)\u001b[49m\n\u001b[0;32m   1325\u001b[0m \u001b[38;5;28;01mfor\u001b[39;00m temp_arg \u001b[38;5;129;01min\u001b[39;00m temp_args:\n\u001b[0;32m   1326\u001b[0m     \u001b[38;5;28;01mif\u001b[39;00m \u001b[38;5;28mhasattr\u001b[39m(temp_arg, \u001b[38;5;124m\"\u001b[39m\u001b[38;5;124m_detach\u001b[39m\u001b[38;5;124m\"\u001b[39m):\n",
      "File \u001b[1;32mE:\\spark-3.5.1-bin-hadoop3\\python\\pyspark\\errors\\exceptions\\captured.py:185\u001b[0m, in \u001b[0;36mcapture_sql_exception.<locals>.deco\u001b[1;34m(*a, **kw)\u001b[0m\n\u001b[0;32m    181\u001b[0m converted \u001b[38;5;241m=\u001b[39m convert_exception(e\u001b[38;5;241m.\u001b[39mjava_exception)\n\u001b[0;32m    182\u001b[0m \u001b[38;5;28;01mif\u001b[39;00m \u001b[38;5;129;01mnot\u001b[39;00m \u001b[38;5;28misinstance\u001b[39m(converted, UnknownException):\n\u001b[0;32m    183\u001b[0m     \u001b[38;5;66;03m# Hide where the exception came from that shows a non-Pythonic\u001b[39;00m\n\u001b[0;32m    184\u001b[0m     \u001b[38;5;66;03m# JVM exception message.\u001b[39;00m\n\u001b[1;32m--> 185\u001b[0m     \u001b[38;5;28;01mraise\u001b[39;00m converted \u001b[38;5;28;01mfrom\u001b[39;00m \u001b[38;5;28mNone\u001b[39m\n\u001b[0;32m    186\u001b[0m \u001b[38;5;28;01melse\u001b[39;00m:\n\u001b[0;32m    187\u001b[0m     \u001b[38;5;28;01mraise\u001b[39;00m\n",
      "\u001b[1;31mAnalysisException\u001b[0m: It is not allowed to use window functions inside HAVING clause."
     ]
    }
   ],
   "source": [
    "df = df_appname_category\n",
    "date = df.select(date_format(col('Date'), 'yyyyMMdd').alias('Date')).first()['Date']\n",
    "view_name = f'source_{date}'\n",
    "df.createOrReplaceTempView(view_name) # cols: [\"Date\", \"Contract\", \"Category\", \"Mac\", \"TotalDuration\"]\n",
    "\n",
    "df_metrics = spark.sql(f\"\"\"\n",
    "    select Contract, \n",
    "        collect_set(regexp_replace(Category, 'Duration', '')) as CustomerTaste,\n",
    "        count(distinct(Date)) as Activeness\n",
    "    from source_{date}\n",
    "    group by Contract\n",
    "    having rank() over (partition by Contract order by TotalDuration desc) = 1\n",
    "\"\"\")\n",
    "\n",
    "spark.catalog.dropTempView(view_name)\n"
   ]
  },
  {
   "cell_type": "code",
   "execution_count": 102,
   "metadata": {},
   "outputs": [
    {
     "name": "stdout",
     "output_type": "stream",
     "text": [
      "+--------------+---------+-------------+----------+\n",
      "|      Contract|MostWatch|CustomerTaste|Activeness|\n",
      "+--------------+---------+-------------+----------+\n",
      "|113.182.209.48|    Relax|  [TV, Relax]|         1|\n",
      "|     AGAAA0338|       TV|         [TV]|         2|\n",
      "|     AGAAA0342|       TV|         [TV]|         2|\n",
      "|     AGAAA0391|       TV|         [TV]|         1|\n",
      "|     AGAAA0613|       TV|         [TV]|         2|\n",
      "|     AGAAA0638|       TV|         [TV]|         2|\n",
      "|     AGAAA0663|       TV|         [TV]|         2|\n",
      "|     AGAAA0693|       TV|  [Child, TV]|         2|\n",
      "|     AGAAA0718|       TV|         [TV]|         2|\n",
      "|     AGAAA0723|       TV|         [TV]|         2|\n",
      "|     AGAAA0732|       TV|         [TV]|         2|\n",
      "|     AGAAA0750|       TV|         [TV]|         2|\n",
      "|     AGAAA0848|       TV|         [TV]|         1|\n",
      "|     AGAAA0849|       TV|         [TV]|         2|\n",
      "|     AGAAA0885|       TV|         [TV]|         1|\n",
      "|     AGAAA0894|       TV|         [TV]|         2|\n",
      "|     AGAAA0901|       TV|         [TV]|         2|\n",
      "|     AGAAA1004|       TV|         [TV]|         1|\n",
      "|     AGAAA1047|       TV|         [TV]|         2|\n",
      "|     AGAAA1147|       TV|  [TV, Relax]|         1|\n",
      "+--------------+---------+-------------+----------+\n",
      "only showing top 20 rows\n",
      "\n"
     ]
    },
    {
     "data": {
      "text/plain": [
       "True"
      ]
     },
     "execution_count": 102,
     "metadata": {},
     "output_type": "execute_result"
    }
   ],
   "source": [
    "df = df_appname_category\n",
    "date = df.select(date_format(col('Date'), 'yyyyMMdd').alias('Date')).first()['Date']\n",
    "view_name = f'source_{date}'\n",
    "df.createOrReplaceTempView(view_name) # cols: [\"Date\", \"Contract\", \"Category\", \"Mac\", \"TotalDuration\"]\n",
    "\n",
    "# df_taste = spark.sql(f\"\"\"\n",
    "#     select Contract, collect_set(regexp_replace(Category, 'Duration', '')) as CustomerTaste\n",
    "#     from source_{date}\n",
    "#     group by Contract\n",
    "# \"\"\")\n",
    "\n",
    "# df_taste.show()\n",
    "\n",
    "df_metrics = spark.sql(f\"\"\"\n",
    "    WITH cte_most_watch as (\n",
    "        select Contract, regexp_replace(Category, 'Duration', '') as MostWatch\n",
    "        from (\n",
    "            select *, \n",
    "                rank() over (partition by Contract order by TotalDuration desc) as rnk\n",
    "            from source_{date}\n",
    "        ) t\n",
    "        where rnk = 1\n",
    "    ),\n",
    "    cte_customer_taste as (\n",
    "        select Contract, \n",
    "            collect_set(regexp_replace(Category, 'Duration', '')) as CustomerTaste,\n",
    "            count(distinct(Date)) as Activeness\n",
    "        from source_{date}\n",
    "        group by Contract\n",
    "    )\n",
    "    \n",
    "    select w.Contract, MostWatch, CustomerTaste, t.Activeness\n",
    "    from cte_most_watch w FULL OUTER JOIN cte_customer_taste t on w.Contract = t.Contract\n",
    "\"\"\")\n",
    "\n",
    "df_metrics.show()\n",
    "\n",
    "spark.catalog.dropTempView(view_name)\n"
   ]
  },
  {
   "cell_type": "code",
   "execution_count": 95,
   "metadata": {},
   "outputs": [
    {
     "name": "stdout",
     "output_type": "stream",
     "text": [
      "+---------+---------+------------------+----------+\n",
      "| Contract|MostWatch|     CustomerTaste|Activeness|\n",
      "+---------+---------+------------------+----------+\n",
      "|AGAAA1297|    Relax|       [TV, Relax]|         2|\n",
      "|AGAAA2263|       TV|              [TV]|         2|\n",
      "|AGAAA1332|       TV|       [Movie, TV]|         2|\n",
      "|AGD013220|       TV|              [TV]|         2|\n",
      "|AGAAA1149|       TV|              [TV]|         2|\n",
      "|AGAAA2273|       TV|              [TV]|         2|\n",
      "|AGAAA2651|       TV|              [TV]|         2|\n",
      "|AGAAA2434|    Movie|[Movie, Child, TV]|         2|\n",
      "|AGAAA1139|       TV|              [TV]|         2|\n",
      "|AGAAA2704|       TV|              [TV]|         2|\n",
      "|AGAAA1348|       TV|              [TV]|         2|\n",
      "|AGAAA0951|       TV|              [TV]|         2|\n",
      "|AGAAA2143|       TV|              [TV]|         2|\n",
      "|AGAAA2779|       TV|              [TV]|         2|\n",
      "|AGAAA0353|       TV|       [Movie, TV]|         2|\n",
      "|AGAAA1185|       TV|              [TV]|         2|\n",
      "|AGAAA1267|       TV|              [TV]|         2|\n",
      "|AGAAA2911|    Movie|[Movie, Child, TV]|         2|\n",
      "|AGAAA1361|       TV|              [TV]|         2|\n",
      "|AGAAA1351|       TV|              [TV]|         2|\n",
      "+---------+---------+------------------+----------+\n",
      "only showing top 20 rows\n",
      "\n"
     ]
    }
   ],
   "source": [
    "df_metrics.orderBy(col(\"Activeness\").desc()).show()"
   ]
  },
  {
   "cell_type": "markdown",
   "metadata": {},
   "source": [
    "# Test ETL 2 days"
   ]
  },
  {
   "cell_type": "code",
   "execution_count": 4,
   "metadata": {},
   "outputs": [
    {
     "data": {
      "text/plain": [
       "True"
      ]
     },
     "execution_count": 4,
     "metadata": {},
     "output_type": "execute_result"
    }
   ],
   "source": [
    "import os\n",
    "parent_folder = 'E:/Dataset/log_content'\n",
    "os.path.exists(parent_folder)"
   ]
  },
  {
   "cell_type": "code",
   "execution_count": 49,
   "metadata": {},
   "outputs": [],
   "source": [
    "parent_folder = 'E:/Dataset/log_content'\n",
    "list_json_files = [f\"{parent_folder}/20220401.json\", f\"{parent_folder}/20220402.json\"]\n",
    "\n",
    "# This pattern matches the last occurrence of a forward slash (/) followed by one or more characters that are not a forward slash (the file name)\n",
    "df_input = spark.read.json(list_json_files) \\\n",
    "    .withColumn('FileName', regexp_extract(input_file_name(), r\"/([^/]+)\\.json$\", 1)) \\\n",
    "    .withColumn('Date', to_date(col('FileName'), 'yyyyMMdd')) \\\n",
    "\n"
   ]
  },
  {
   "cell_type": "code",
   "execution_count": 50,
   "metadata": {},
   "outputs": [
    {
     "name": "stdout",
     "output_type": "stream",
     "text": [
      "+----------+\n",
      "|Date      |\n",
      "+----------+\n",
      "|2022-04-01|\n",
      "|2022-04-02|\n",
      "+----------+\n",
      "\n"
     ]
    }
   ],
   "source": [
    "df_input.select('Date').distinct().show(truncate=False)"
   ]
  },
  {
   "cell_type": "markdown",
   "metadata": {},
   "source": [
    "# Test ETL 1 day"
   ]
  },
  {
   "cell_type": "code",
   "execution_count": 8,
   "metadata": {},
   "outputs": [
    {
     "name": "stdout",
     "output_type": "stream",
     "text": [
      "+--------------------+-------+------+--------------------+-----+\n",
      "|                 _id| _index|_score|             _source|_type|\n",
      "+--------------------+-------+------+--------------------+-----+\n",
      "|AX_momhia1FFivsGrn9o|history|     0|{KPLUS, HNH579912...|kplus|\n",
      "|AX_momhca1FFivsGrnvg|history|     0|{KPLUS, HUFD40665...|kplus|\n",
      "|AX_momhaa1FFivsGrnny|history|     0|{KPLUS, HNH572635...|kplus|\n",
      "|AX_momhca1FFivsGrnvv|history|     0|{KPLUS, HND141717...|kplus|\n",
      "|AX_momhia1FFivsGrn98|history|     0|{KPLUS, HNH743103...|kplus|\n",
      "|AX_momg9a1FFivsGrnkS|history|     0|{KPLUS, HNH893773...|kplus|\n",
      "|AX_momhca1FFivsGrnwA|history|     0|{KPLUS, HND083642...|kplus|\n",
      "|AX_momhfa1FFivsGrn2u|history|     0|{KPLUS, DNFD74404...|kplus|\n",
      "|AX_momhca1FFivsGrnwP|history|     0|{KPLUS, DTFD21200...|kplus|\n",
      "|AX_momhca1FFivsGrnwU|history|     0|{KPLUS, LDFD05747...|kplus|\n",
      "|AX_momhfa1FFivsGrn24|history|     0|{KPLUS, HNH063566...|kplus|\n",
      "|AX_momhia1FFivsGrn-W|history|     0|{KPLUS, HNH866786...|kplus|\n",
      "|AX_momhia1FFivsGrn-a|history|     0|{KPLUS, NBAAA1128...|kplus|\n",
      "|AX_momhfa1FFivsGrn3J|history|     0|{KPLUS, HNH960439...|kplus|\n",
      "|AX_momhia1FFivsGrn-k|history|     0|{KPLUS, HNJ035736...|kplus|\n",
      "|AX_momhaa1FFivsGrnol|history|     0|{KPLUS, NTFD93673...|kplus|\n",
      "|AX_momhaa1FFivsGrnoq|history|     0|{KPLUS, HNJ063267...|kplus|\n",
      "|AX_momg9a1FFivsGrnlF|history|     0|{KPLUS, HNH790383...|kplus|\n",
      "|AX_momhia1FFivsGrn-4|history|     0|{KPLUS, THFD12466...|kplus|\n",
      "|AX_momhia1FFivsGrn-9|history|     0|{KPLUS, HNH566080...|kplus|\n",
      "+--------------------+-------+------+--------------------+-----+\n",
      "only showing top 20 rows\n",
      "\n"
     ]
    }
   ],
   "source": [
    "df_input = spark.read.json('.\\\\20220401.json')\n",
    "df_input.show()"
   ]
  },
  {
   "cell_type": "code",
   "execution_count": 11,
   "metadata": {},
   "outputs": [
    {
     "name": "stdout",
     "output_type": "stream",
     "text": [
      "+-------+\n",
      "|  _type|\n",
      "+-------+\n",
      "|  kplus|\n",
      "|    vod|\n",
      "|  relax|\n",
      "|channel|\n",
      "|  child|\n",
      "|  sport|\n",
      "|   fims|\n",
      "+-------+\n",
      "\n"
     ]
    }
   ],
   "source": [
    "df_input.select(\"_type\").distinct().show()"
   ]
  },
  {
   "cell_type": "code",
   "execution_count": 5,
   "metadata": {},
   "outputs": [
    {
     "name": "stdout",
     "output_type": "stream",
     "text": [
      "root\n",
      " |-- _id: string (nullable = true)\n",
      " |-- _index: string (nullable = true)\n",
      " |-- _score: long (nullable = true)\n",
      " |-- _source: struct (nullable = true)\n",
      " |    |-- AppName: string (nullable = true)\n",
      " |    |-- Contract: string (nullable = true)\n",
      " |    |-- Mac: string (nullable = true)\n",
      " |    |-- TotalDuration: long (nullable = true)\n",
      " |-- _type: string (nullable = true)\n",
      "\n"
     ]
    }
   ],
   "source": [
    "df_input.printSchema()"
   ]
  },
  {
   "cell_type": "code",
   "execution_count": 19,
   "metadata": {},
   "outputs": [
    {
     "name": "stdout",
     "output_type": "stream",
     "text": [
      "+---------+-------+-------------+------------+\n",
      "| Contract|AppName|TotalDuration|         Mac|\n",
      "+---------+-------+-------------+------------+\n",
      "|HNH579912|  KPLUS|          254|0C96E62FC55C|\n",
      "|HUFD40665|  KPLUS|         1457|CCEDDC333614|\n",
      "|HNH572635|  KPLUS|         2318|B068E6A1C5F6|\n",
      "|HND141717|  KPLUS|         1452|08674EE8D2C2|\n",
      "|HNH743103|  KPLUS|          251|402343C25D7D|\n",
      "|HNH893773|  KPLUS|          924|B84DEE76D3B8|\n",
      "|HND083642|  KPLUS|         1444|B84DEE849A0F|\n",
      "|DNFD74404|  KPLUS|          691|90324BB44C39|\n",
      "|DTFD21200|  KPLUS|         1436|B84DEED27709|\n",
      "|LDFD05747|  KPLUS|         1434|0C96E6C95E53|\n",
      "|HNH063566|  KPLUS|          687|B84DEEDD1C85|\n",
      "|HNH866786|  KPLUS|          248|10394E2790A5|\n",
      "|NBAAA1128|  KPLUS|          247|10394E47C1AF|\n",
      "|HNH960439|  KPLUS|          683|B84DEED34371|\n",
      "|HNJ035736|  KPLUS|          246|CCD4A1FA86A5|\n",
      "|NTFD93673|  KPLUS|         2288|B84DEEEF4763|\n",
      "|HNJ063267|  KPLUS|         2282|10394E172CA7|\n",
      "|HNH790383|  KPLUS|          906|4CEBBD53378B|\n",
      "|THFD12466|  KPLUS|          242|5CEA1D893E1C|\n",
      "|HNH566080|  KPLUS|          242|802BF9E0DDC0|\n",
      "+---------+-------+-------------+------------+\n",
      "only showing top 20 rows\n",
      "\n"
     ]
    }
   ],
   "source": [
    "df_source = df_input.select( '_source.Contract', '_source.AppName', '_source.TotalDuration', '_source.Mac')\n",
    "df_source.show()"
   ]
  },
  {
   "cell_type": "code",
   "execution_count": 17,
   "metadata": {},
   "outputs": [
    {
     "name": "stdout",
     "output_type": "stream",
     "text": [
      "root\n",
      " |-- Contract: string (nullable = true)\n",
      " |-- AppName: string (nullable = true)\n",
      " |-- TotalDuration: long (nullable = true)\n",
      "\n"
     ]
    }
   ],
   "source": [
    "df_source.printSchema()"
   ]
  },
  {
   "cell_type": "code",
   "execution_count": 25,
   "metadata": {},
   "outputs": [],
   "source": [
    "# rule\n",
    "state_dict = {\n",
    "    'CHANNEL':'Truyền Hình',\n",
    "    'DSHD':'Truyền Hình', \n",
    "    'KPLUS':'Truyền Hình',\n",
    "    'VOD' : 'Phim truyện', \n",
    "    'FIMS': 'Phim truyện',\n",
    "    'SPORT': 'Thể thao', \n",
    "    'RELAX': 'Giải trí',\n",
    "    'CHILD': 'Thiếu nhi'  \n",
    "}"
   ]
  },
  {
   "cell_type": "code",
   "execution_count": 26,
   "metadata": {},
   "outputs": [
    {
     "name": "stdout",
     "output_type": "stream",
     "text": [
      "+---------+-----------+------------+-------------+\n",
      "| Contract|   Category|         Mac|TotalDuration|\n",
      "+---------+-----------+------------+-------------+\n",
      "|HNH579912|Truyền Hình|0C96E62FC55C|          254|\n",
      "|HUFD40665|Truyền Hình|CCEDDC333614|         1457|\n",
      "|HNH572635|Truyền Hình|B068E6A1C5F6|         2318|\n",
      "|HND141717|Truyền Hình|08674EE8D2C2|         1452|\n",
      "|HNH743103|Truyền Hình|402343C25D7D|          251|\n",
      "|HNH893773|Truyền Hình|B84DEE76D3B8|          924|\n",
      "|HND083642|Truyền Hình|B84DEE849A0F|         1444|\n",
      "|DNFD74404|Truyền Hình|90324BB44C39|          691|\n",
      "|DTFD21200|Truyền Hình|B84DEED27709|         1436|\n",
      "|LDFD05747|Truyền Hình|0C96E6C95E53|         1434|\n",
      "|HNH063566|Truyền Hình|B84DEEDD1C85|          687|\n",
      "|HNH866786|Truyền Hình|10394E2790A5|          248|\n",
      "|NBAAA1128|Truyền Hình|10394E47C1AF|          247|\n",
      "|HNH960439|Truyền Hình|B84DEED34371|          683|\n",
      "|HNJ035736|Truyền Hình|CCD4A1FA86A5|          246|\n",
      "|NTFD93673|Truyền Hình|B84DEEEF4763|         2288|\n",
      "|HNJ063267|Truyền Hình|10394E172CA7|         2282|\n",
      "|HNH790383|Truyền Hình|4CEBBD53378B|          906|\n",
      "|THFD12466|Truyền Hình|5CEA1D893E1C|          242|\n",
      "|HNH566080|Truyền Hình|802BF9E0DDC0|          242|\n",
      "+---------+-----------+------------+-------------+\n",
      "only showing top 20 rows\n",
      "\n"
     ]
    }
   ],
   "source": [
    "df_category = df_source.rdd \\\n",
    "    .map(lambda row: (row.Contract, state_dict[row.AppName], row.Mac, row.TotalDuration)) \\\n",
    "    .toDF([\"Contract\", \"Category\", \"Mac\", \"TotalDuration\"])\n",
    "    \n",
    "df_category.show()"
   ]
  },
  {
   "cell_type": "code",
   "execution_count": 29,
   "metadata": {},
   "outputs": [
    {
     "name": "stdout",
     "output_type": "stream",
     "text": [
      "+--------------+-----------+-------------+\n",
      "|      Contract|   Category|TotalDuration|\n",
      "+--------------+-----------+-------------+\n",
      "|             0|Truyền Hình|    519546866|\n",
      "|113.182.209.48|Truyền Hình|           63|\n",
      "|113.182.209.48|   Giải trí|           89|\n",
      "|     AGAAA0335|Truyền Hình|        11440|\n",
      "|     AGAAA0338|Truyền Hình|         8895|\n",
      "|     AGAAA0342|Truyền Hình|           44|\n",
      "|     AGAAA0345|Truyền Hình|        13846|\n",
      "|     AGAAA0346|Truyền Hình|        47203|\n",
      "|     AGAAA0350|Truyền Hình|        11090|\n",
      "|     AGAAA0352|Truyền Hình|        10094|\n",
      "|     AGAAA0353|Truyền Hình|           16|\n",
      "|     AGAAA0356|Truyền Hình|        39995|\n",
      "|     AGAAA0357|Truyền Hình|           61|\n",
      "|     AGAAA0359|Truyền Hình|        86400|\n",
      "|     AGAAA0360|Truyền Hình|         6188|\n",
      "|     AGAAA0366|Truyền Hình|        51934|\n",
      "|     AGAAA0370|Truyền Hình|        85932|\n",
      "|     AGAAA0372|Truyền Hình|           19|\n",
      "|     AGAAA0375|Phim truyện|          114|\n",
      "|     AGAAA0375|Truyền Hình|        13545|\n",
      "+--------------+-----------+-------------+\n",
      "only showing top 20 rows\n",
      "\n"
     ]
    }
   ],
   "source": [
    "df_duration_by_category = df_category \\\n",
    "    .groupBy(\"Contract\", \"Category\") \\\n",
    "    .agg(sum(\"TotalDuration\").alias(\"TotalDuration\")) \\\n",
    "    .orderBy(\"Contract\")\n",
    "    \n",
    "df_duration_by_category.show()"
   ]
  },
  {
   "cell_type": "markdown",
   "metadata": {},
   "source": [
    "=> Mỗi contract có thể thuộc về 2 category, dẫn tới có thể có 2 dòng trùng cho 1 contract -> Pivot"
   ]
  },
  {
   "cell_type": "code",
   "execution_count": 30,
   "metadata": {},
   "outputs": [
    {
     "name": "stdout",
     "output_type": "stream",
     "text": [
      "+---------+--------+-----------+---------+--------+-----------+\n",
      "| Contract|Giải trí|Phim truyện|Thiếu nhi|Thể thao|Truyền Hình|\n",
      "+---------+--------+-----------+---------+--------+-----------+\n",
      "|HPFD48556|      69|       NULL|     NULL|    NULL|      92976|\n",
      "|NBFD10014|    NULL|       NULL|     NULL|    NULL|      84628|\n",
      "|HNH036174|    NULL|       NULL|     NULL|    NULL|       6049|\n",
      "|DNH067877|    NULL|       NULL|     NULL|    NULL|       5760|\n",
      "|SGH806190|    NULL|       NULL|     NULL|    NULL|       1131|\n",
      "|HDFD42710|    NULL|       NULL|     NULL|    NULL|      12096|\n",
      "|NTFD85431|    NULL|       2759|       39|    NULL|        974|\n",
      "|NTFD24068|    NULL|       3836|     NULL|    NULL|        281|\n",
      "|DAD046926|    NULL|       1700|     3315|    NULL|      14976|\n",
      "|HUFD61701|    NULL|       1983|     NULL|    NULL|        445|\n",
      "|NDFD32943|    NULL|       NULL|     NULL|    NULL|       6269|\n",
      "|TNFD30439|    NULL|       NULL|     NULL|    NULL|       5238|\n",
      "|DNH083321|    NULL|       NULL|     NULL|    NULL|       1020|\n",
      "|SGH515476|    NULL|      21218|     NULL|    NULL|       1989|\n",
      "|SGH446342|    NULL|       NULL|     NULL|    NULL|      11428|\n",
      "|PTFD07001|    NULL|       2793|     NULL|    NULL|       9444|\n",
      "|HDAAA4181|    NULL|         44|       48|    NULL|        518|\n",
      "|HNH720916|    NULL|        538|     NULL|    NULL|      12535|\n",
      "|DLFD29162|    NULL|       NULL|     NULL|    NULL|       5991|\n",
      "|SGH763326|    NULL|       NULL|     NULL|    NULL|       5744|\n",
      "+---------+--------+-----------+---------+--------+-----------+\n",
      "only showing top 20 rows\n",
      "\n"
     ]
    }
   ],
   "source": [
    "df_pivot = df_duration_by_category.groupBy(\"Contract\").pivot(\"Category\").agg(sum(\"TotalDuration\").alias(\"TotalDuration\"))\n",
    "df_pivot.show()"
   ]
  },
  {
   "cell_type": "code",
   "execution_count": 32,
   "metadata": {},
   "outputs": [
    {
     "name": "stdout",
     "output_type": "stream",
     "text": [
      "+---------+--------+-----------+---------+--------+-----------+----------+\n",
      "| Contract|Giải trí|Phim truyện|Thiếu nhi|Thể thao|Truyền Hình|      Date|\n",
      "+---------+--------+-----------+---------+--------+-----------+----------+\n",
      "|HPFD48556|      69|       NULL|     NULL|    NULL|      92976|2024-01-14|\n",
      "|NBFD10014|    NULL|       NULL|     NULL|    NULL|      84628|2024-01-14|\n",
      "|HNH036174|    NULL|       NULL|     NULL|    NULL|       6049|2024-01-14|\n",
      "|DNH067877|    NULL|       NULL|     NULL|    NULL|       5760|2024-01-14|\n",
      "|SGH806190|    NULL|       NULL|     NULL|    NULL|       1131|2024-01-14|\n",
      "|HDFD42710|    NULL|       NULL|     NULL|    NULL|      12096|2024-01-14|\n",
      "|NTFD85431|    NULL|       2759|       39|    NULL|        974|2024-01-14|\n",
      "|NTFD24068|    NULL|       3836|     NULL|    NULL|        281|2024-01-14|\n",
      "|DAD046926|    NULL|       1700|     3315|    NULL|      14976|2024-01-14|\n",
      "|HUFD61701|    NULL|       1983|     NULL|    NULL|        445|2024-01-14|\n",
      "|NDFD32943|    NULL|       NULL|     NULL|    NULL|       6269|2024-01-14|\n",
      "|TNFD30439|    NULL|       NULL|     NULL|    NULL|       5238|2024-01-14|\n",
      "|DNH083321|    NULL|       NULL|     NULL|    NULL|       1020|2024-01-14|\n",
      "|SGH515476|    NULL|      21218|     NULL|    NULL|       1989|2024-01-14|\n",
      "|SGH446342|    NULL|       NULL|     NULL|    NULL|      11428|2024-01-14|\n",
      "|PTFD07001|    NULL|       2793|     NULL|    NULL|       9444|2024-01-14|\n",
      "|HDAAA4181|    NULL|         44|       48|    NULL|        518|2024-01-14|\n",
      "|HNH720916|    NULL|        538|     NULL|    NULL|      12535|2024-01-14|\n",
      "|DLFD29162|    NULL|       NULL|     NULL|    NULL|       5991|2024-01-14|\n",
      "|SGH763326|    NULL|       NULL|     NULL|    NULL|       5744|2024-01-14|\n",
      "+---------+--------+-----------+---------+--------+-----------+----------+\n",
      "only showing top 20 rows\n",
      "\n"
     ]
    }
   ],
   "source": [
    "df_pivot.withColumn(\"Date\", to_date(lit(\"20240114\"), \"yyyyMMdd\")).show()"
   ]
  },
  {
   "cell_type": "code",
   "execution_count": 38,
   "metadata": {},
   "outputs": [
    {
     "data": {
      "text/plain": [
       "['./one_month/20220401.json', './one_month/20220515.json']"
      ]
     },
     "execution_count": 38,
     "metadata": {},
     "output_type": "execute_result"
    }
   ],
   "source": [
    "import os\n",
    "\n",
    "folder_month_path = \"./one_month/\"\n",
    "log_files = [folder_month_path + file_name for file_name in os.listdir(folder_month_path) if file_name.endswith(\".json\")]\n",
    "log_files\n",
    "# [folder_month_path + file_name for file_name in os.listdir(folder_month_path) if file_name.endswith(\".json\")]"
   ]
  }
 ],
 "metadata": {
  "kernelspec": {
   "display_name": "base",
   "language": "python",
   "name": "python3"
  },
  "language_info": {
   "codemirror_mode": {
    "name": "ipython",
    "version": 3
   },
   "file_extension": ".py",
   "mimetype": "text/x-python",
   "name": "python",
   "nbconvert_exporter": "python",
   "pygments_lexer": "ipython3",
   "version": "3.10.9"
  }
 },
 "nbformat": 4,
 "nbformat_minor": 2
}
